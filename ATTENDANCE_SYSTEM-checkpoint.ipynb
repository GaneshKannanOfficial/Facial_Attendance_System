{
 "cells": [
  {
   "cell_type": "code",
   "execution_count": 1,
   "id": "7b1bf39c",
   "metadata": {},
   "outputs": [],
   "source": [
    "import cv2"
   ]
  },
  {
   "cell_type": "code",
   "execution_count": 2,
   "id": "b96f5874",
   "metadata": {},
   "outputs": [],
   "source": [
    "from deepface import DeepFace\n",
    "import numpy as np"
   ]
  },
  {
   "cell_type": "code",
   "execution_count": 3,
   "id": "72216362",
   "metadata": {},
   "outputs": [],
   "source": [
    "import tensorflow as tf"
   ]
  },
  {
   "cell_type": "code",
   "execution_count": 4,
   "id": "3779b9d4",
   "metadata": {},
   "outputs": [
    {
     "name": "stdout",
     "output_type": "stream",
     "text": [
      "pygame 2.5.1 (SDL 2.28.2, Python 3.11.3)\n",
      "Hello from the pygame community. https://www.pygame.org/contribute.html\n"
     ]
    }
   ],
   "source": [
    "import datetime,pygame,keyboard"
   ]
  },
  {
   "cell_type": "code",
   "execution_count": 5,
   "id": "b8036449",
   "metadata": {},
   "outputs": [],
   "source": [
    "import xlwings as xw"
   ]
  },
  {
   "cell_type": "code",
   "execution_count": 6,
   "id": "d43b6a40",
   "metadata": {},
   "outputs": [],
   "source": [
    "#xlwings \n",
    "workbook = xw.Book('attendance.xlsx')\n",
    "sheet_name = datetime.date.today().isoformat()\n",
    "try:\n",
    "    worksheet = workbook.sheets(sheet_name)\n",
    "except:\n",
    "    worksheet = workbook.sheets.add(sheet_name)"
   ]
  },
  {
   "cell_type": "code",
   "execution_count": 7,
   "id": "0dcc73c2",
   "metadata": {},
   "outputs": [],
   "source": [
    "worksheet.range('A1').value = 'STUDENT'\n",
    "worksheet.range('B1').value = 'DATE'\n",
    "worksheet.range('C1').value = 'TIME'\n",
    "students=[]"
   ]
  },
  {
   "cell_type": "code",
   "execution_count": 8,
   "id": "6c10ac58",
   "metadata": {},
   "outputs": [],
   "source": [
    "model_live = 'liveness.model'\n",
    "model_live = tf.keras.models.load_model(model_live)"
   ]
  },
  {
   "cell_type": "code",
   "execution_count": 9,
   "id": "fcdb85f2",
   "metadata": {},
   "outputs": [],
   "source": [
    "s=2"
   ]
  },
  {
   "cell_type": "code",
   "execution_count": 10,
   "id": "ccf77bdb",
   "metadata": {},
   "outputs": [
    {
     "ename": "FileNotFoundError",
     "evalue": "No file 'bg_img.png' found in working directory 'C:\\Users\\kanna\\Attendance_Sys'.",
     "output_type": "error",
     "traceback": [
      "\u001b[1;31m---------------------------------------------------------------------------\u001b[0m",
      "\u001b[1;31mFileNotFoundError\u001b[0m                         Traceback (most recent call last)",
      "Cell \u001b[1;32mIn[10], line 12\u001b[0m\n\u001b[0;32m      8\u001b[0m pygame_font \u001b[38;5;241m=\u001b[39m pygame\u001b[38;5;241m.\u001b[39mfont\u001b[38;5;241m.\u001b[39mFont(\u001b[38;5;124m'\u001b[39m\u001b[38;5;124mfreesansbold.ttf\u001b[39m\u001b[38;5;124m'\u001b[39m,\u001b[38;5;241m32\u001b[39m)\n\u001b[0;32m     10\u001b[0m screen \u001b[38;5;241m=\u001b[39m pygame\u001b[38;5;241m.\u001b[39mdisplay\u001b[38;5;241m.\u001b[39mset_mode((\u001b[38;5;241m960\u001b[39m,\u001b[38;5;241m540\u001b[39m))\n\u001b[1;32m---> 12\u001b[0m bgimg \u001b[38;5;241m=\u001b[39m pygame\u001b[38;5;241m.\u001b[39mimage\u001b[38;5;241m.\u001b[39mload(\u001b[38;5;124m'\u001b[39m\u001b[38;5;124mbg_img.png\u001b[39m\u001b[38;5;124m'\u001b[39m)\n\u001b[0;32m     13\u001b[0m bgimg \u001b[38;5;241m=\u001b[39m pygame\u001b[38;5;241m.\u001b[39mtransform\u001b[38;5;241m.\u001b[39mrotozoom(bgimg,\u001b[38;5;241m0\u001b[39m,\u001b[38;5;241m1\u001b[39m)\n\u001b[0;32m     15\u001b[0m screen\u001b[38;5;241m.\u001b[39mblit(bgimg,(\u001b[38;5;241m0\u001b[39m,\u001b[38;5;241m0\u001b[39m))\n",
      "\u001b[1;31mFileNotFoundError\u001b[0m: No file 'bg_img.png' found in working directory 'C:\\Users\\kanna\\Attendance_Sys'."
     ]
    }
   ],
   "source": [
    "cap = cv2.VideoCapture(0)\n",
    "\n",
    "#pygame\n",
    "pygame.init()\n",
    "pg_txt = (39,112,50)\n",
    "pg_bg = (154,179,157)\n",
    "font = cv2.FONT_HERSHEY_SIMPLEX\n",
    "pygame_font = pygame.font.Font('freesansbold.ttf',32)\n",
    "\n",
    "screen = pygame.display.set_mode((960,540))\n",
    "\n",
    "bgimg = pygame.image.load('bg_img.png')\n",
    "bgimg = pygame.transform.rotozoom(bgimg,0,1)\n",
    "\n",
    "screen.blit(bgimg,(0,0))\n",
    "\n",
    "#day today \n",
    "t0 = datetime.date.today()\n",
    "t0 = t0.day\n",
    "\n",
    "running = True\n",
    "\n",
    "while running:\n",
    "    moment = datetime.datetime.now()\n",
    "    hr = moment.hour \n",
    "    mins = moment.minute \n",
    "    day = moment.day\n",
    "    month = moment.month\n",
    "    year = moment.year\n",
    "    date = f\"{day}-{month}-{year}\"\n",
    "    time = f\"{hr}:{mins}\"\n",
    "        \n",
    "    screen.blit(bgimg,(0,0))\n",
    "        \n",
    "    #check \n",
    "    \n",
    "    if day!=t0:\n",
    "        t0 = day\n",
    "        worksheet = workbook.sheets.add(date)\n",
    "        worksheet.range('A1').value = 'STUDENT'\n",
    "        worksheet.range('B1').value = 'DATE'\n",
    "        worksheet.range('C1').value = 'TIME'\n",
    "        students=[]\n",
    "        \n",
    "    state,frame = cap.read()\n",
    "    \n",
    "    if state!=True:\n",
    "        break \n",
    "    res = DeepFace.find(frame, db_path='./Deepface', enforce_detection = False, model_name='VGG-Face')\n",
    "    if len(res[0]['identity'][0])>0:\n",
    "        name = res[0]['identity'][0].split('/')[1].split('\\\\')[1]\n",
    "        xmin = res[0]['source_x'][0]\n",
    "        ymin = res[0]['source_y'][0]\n",
    "        w = res[0]['source_w'][0]\n",
    "        h = res[0]['source_h'][0]\n",
    "        xmax = xmin+w\n",
    "        ymax = ymin+h\n",
    "        \n",
    "        #liveness\n",
    "        \n",
    "        img = frame[ymin:ymax,xmin:xmax]\n",
    "        img = cv2.resize(img,(32,32))\n",
    "        # model accepts the liveness to (32,32) instead of the original one it will resize\n",
    "        img = img.astype('float')/255.0 \n",
    "        # to normalize we divide as all values in rgb range from 0-255 we are now converting to 0-1\n",
    "        img = tf.keras.preprocessing.image.img_to_array(img)\n",
    "        img = np.expand_dims(img,axis=0)\n",
    "        \n",
    "        liveness = model_live.predict(img)\n",
    "      \n",
    "        liveness = liveness[0].argmax()\n",
    "        \n",
    "        if liveness == 1:\n",
    "            cv2.rectangle(frame, (xmin,ymin), (xmax,ymax), (0,255,0),2)\n",
    "            cv2.putText(frame,name,(xmin,ymin),cv2.FONT_HERSHEY_SIMPLEX,2,(0,255,0),3,cv2.LINE_AA)\n",
    "            cv2.putText(frame, str(liveness), (xmin,ymax+25),cv2.FONT_HERSHEY_SIMPLEX,1,(0,255,0),2,cv2.LINE_AA )\n",
    "            \n",
    "            \n",
    "            n_txt = pygame_font.render(name,True,pg_txt,pg_bg)\n",
    "            n_textrect = n_txt.get_rect()\n",
    "            n_textrect.center = (960-200,540//2)\n",
    "            \n",
    "            d_txt = pygame_font.render(date,True,pg_txt,pg_bg)\n",
    "            d_textrect = d_txt.get_rect()\n",
    "            d_textrect.center = (960-200,(540//2)+40)\n",
    "            \n",
    "            t_txt = pygame_font.render(time,True,pg_txt,pg_bg)\n",
    "            t_textrect = t_txt.get_rect()\n",
    "            t_textrect.center = (960-200,(540//2)+(80))\n",
    "            \n",
    "            screen.blit(n_txt, n_textrect)\n",
    "            screen.blit(d_txt, d_textrect)\n",
    "            screen.blit(t_txt, t_textrect)\n",
    "            \n",
    "            if keyboard.is_pressed('enter'):\n",
    "                if name not in students:\n",
    "                    worksheet.range(f'A{s}').value = name\n",
    "                    worksheet.range(f'B{s}').value = date\n",
    "                    worksheet.range(f'C{s}').value = time\n",
    "                    s+=1\n",
    " \n",
    "        image = pygame.image.frombuffer(frame.tostring(), frame.shape[1::-1],'BGR')\n",
    "        image = pygame.transform.rotozoom(image,0,0.8)\n",
    "        \n",
    "        size = image.get_size()\n",
    "        rect_img = pygame.Surface(size, pygame.SRCALPHA)\n",
    "        pygame.draw.rect(rect_img,(255,255,255),(0,0,*size), border_radius=10)\n",
    "        \n",
    "        image = image.copy().convert_alpha()\n",
    "        image.blit(rect_img, (0,0), None, pygame.BLEND_RGB_MIN)\n",
    "        screen.blit(image,(20,80))\n",
    "        \n",
    "        pygame.display.update()\n",
    "        for event in  pygame.event.get():\n",
    "            if event.type == pygame.QUIT:\n",
    "                running = False\n",
    "        \n",
    "#     cv2.imshow('attendance', frame)\n",
    "#     c = cv2.waitKey(1)\n",
    "#     if c==ord('q'):\n",
    "#         break \n",
    "\n",
    "\n",
    "cap.release()\n",
    "pygame.quit()\n",
    "#cv2.destroyAllWindows()"
   ]
  },
  {
   "cell_type": "code",
   "execution_count": null,
   "id": "f312793a",
   "metadata": {},
   "outputs": [],
   "source": [
    "model = DeepFace.find(img_path = 'testg.jpg', db_path = './Deepface', enforce_detection = False, model_name='VGG-Face')"
   ]
  },
  {
   "cell_type": "code",
   "execution_count": null,
   "id": "5d085276",
   "metadata": {},
   "outputs": [],
   "source": [
    "model[0]"
   ]
  },
  {
   "cell_type": "markdown",
   "id": "b0e72931",
   "metadata": {},
   "source": [
    "# Liveness check\n",
    "img = frame[ymin:ymax, xmin:xmax]: This line extracts a region of interest (ROI) from the frame image. The ymin, ymax, xmin, and xmax values likely represent the coordinates of a bounding box around a detected face. This line of code creates a sub-image (img) by cropping the region of the frame within the specified bounding box.\n",
    "\n",
    "img = cv2.resize(img, (32, 32)): After extracting the ROI, this line resizes the img to a smaller size of 32x32 pixels. It appears that the liveness detection model being used requires this specific input size.\n",
    "\n",
    "img = img.astype('float') / 255.0: This line converts the pixel values in img to floating-point numbers and then normalizes them by dividing each pixel value by 255.0. Normalization is a common preprocessing step in machine learning to scale the pixel values from the original range (0-255 for RGB images) to a normalized range between 0 and 1. This helps the neural network converge faster during training.\n",
    "\n",
    "img = tf.keras.preprocessing.image.img_to_array(img): This line converts the img from a NumPy array to a TensorFlow tensor. The img_to_array function is often used for preparing images for deep learning models.\n",
    "\n",
    "img = numpy.expand_dims(img, axis=0): Finally, this line expands the dimensions of the img tensor by adding an extra dimension at the beginning. This is typically done to make the image compatible with models that expect a batch of images as input. By adding an extra dimension at the beginning, the shape of the img tensor becomes (1, 32, 32, 3) (assuming it's a color image with 3 channels).\n",
    "\n",
    "In summary, the code is preparing a cropped and resized face image (img) for input to a liveness detection model. It resizes, normalizes, and converts the image to a format suitable for feeding into the model.\n",
    "\n",
    "\n",
    "\n",
    "\n",
    "\n"
   ]
  },
  {
   "cell_type": "code",
   "execution_count": null,
   "id": "36ba8e59",
   "metadata": {},
   "outputs": [],
   "source": [
    "!pip install xlwings"
   ]
  },
  {
   "cell_type": "code",
   "execution_count": null,
   "id": "46f9a9ab",
   "metadata": {},
   "outputs": [],
   "source": [
    "!pip install pygame"
   ]
  },
  {
   "cell_type": "code",
   "execution_count": null,
   "id": "7d3cce1f",
   "metadata": {},
   "outputs": [],
   "source": [
    "!pip install keyboard"
   ]
  },
  {
   "cell_type": "code",
   "execution_count": null,
   "id": "2a9e0c1c",
   "metadata": {},
   "outputs": [],
   "source": []
  }
 ],
 "metadata": {
  "kernelspec": {
   "display_name": "Python 3 (ipykernel)",
   "language": "python",
   "name": "python3"
  },
  "language_info": {
   "codemirror_mode": {
    "name": "ipython",
    "version": 3
   },
   "file_extension": ".py",
   "mimetype": "text/x-python",
   "name": "python",
   "nbconvert_exporter": "python",
   "pygments_lexer": "ipython3",
   "version": "3.11.3"
  }
 },
 "nbformat": 4,
 "nbformat_minor": 5
}
